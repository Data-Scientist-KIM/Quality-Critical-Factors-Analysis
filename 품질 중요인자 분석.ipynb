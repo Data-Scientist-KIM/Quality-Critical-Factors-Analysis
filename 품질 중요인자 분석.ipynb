{
 "cells": [
  {
   "cell_type": "markdown",
   "id": "d336ade3",
   "metadata": {},
   "source": [
    "# 품질 중요인자 분석(Quality Critical Factors Analysis)"
   ]
  },
  {
   "cell_type": "markdown",
   "id": "e00baffb",
   "metadata": {},
   "source": [
    "## 문제상황  \n",
    "\n",
    "A공장에서는 Wine을 생산한다. 좋은 품질의 Wine은 높은 단가로 시장에 판매할 수 있다. A공장에서 생산하는 Wine은 1~9등급까지의 등급이 있고,  \n",
    "7등급 이상이 가장 프리미엄 Wine이다. 7등급 이상의 Wine을 최대한 많이 생산해야 영업이익을 남길 수 있다. Wine 품질에 영향을 끼치는  \n",
    "주요 공정변수를 확인하고, 공정 변수 관리를 통해 7등급 이상의 Wine을 생성하고자 한다."
   ]
  },
  {
   "cell_type": "markdown",
   "id": "c5438638",
   "metadata": {},
   "source": [
    "## 문제 해결 프로세스  \n",
    "\n",
    "1. 문제정의\n",
    "\n",
    "- 7등급 이상 프리미엄 Wine 생산량 부족\n",
    "\n",
    "2. 기대효과\n",
    "\n",
    "- 7등급 이상 프리미엄 Wine 생산량 증가, 영업이익 증가  \n",
    "\n",
    "3. 해결방안\n",
    "\n",
    "- Wine 품질에 영향을 미치는 인자 도출 및 공정 관리를 통한 프리미엄 Wine 생산\n",
    "\n",
    "4. 성과측정\n",
    "\n",
    "- 공정변수 Control 전/후 프리미엄 Wine 생산량 비교"
   ]
  },
  {
   "cell_type": "code",
   "execution_count": 1,
   "id": "aaa56798",
   "metadata": {},
   "outputs": [
    {
     "data": {
      "text/html": [
       "<div>\n",
       "<style scoped>\n",
       "    .dataframe tbody tr th:only-of-type {\n",
       "        vertical-align: middle;\n",
       "    }\n",
       "\n",
       "    .dataframe tbody tr th {\n",
       "        vertical-align: top;\n",
       "    }\n",
       "\n",
       "    .dataframe thead th {\n",
       "        text-align: right;\n",
       "    }\n",
       "</style>\n",
       "<table border=\"1\" class=\"dataframe\">\n",
       "  <thead>\n",
       "    <tr style=\"text-align: right;\">\n",
       "      <th></th>\n",
       "      <th>fixed acidity</th>\n",
       "      <th>volatile acidity</th>\n",
       "      <th>citric acid</th>\n",
       "      <th>residual sugar</th>\n",
       "      <th>chlorides</th>\n",
       "      <th>free sulfur dioxide</th>\n",
       "      <th>total sulfur dioxide</th>\n",
       "      <th>density</th>\n",
       "      <th>pH</th>\n",
       "      <th>sulphates</th>\n",
       "      <th>alcohol</th>\n",
       "      <th>quality</th>\n",
       "    </tr>\n",
       "  </thead>\n",
       "  <tbody>\n",
       "    <tr>\n",
       "      <th>0</th>\n",
       "      <td>7.4</td>\n",
       "      <td>0.70</td>\n",
       "      <td>0.00</td>\n",
       "      <td>1.9</td>\n",
       "      <td>0.076</td>\n",
       "      <td>11.0</td>\n",
       "      <td>34.0</td>\n",
       "      <td>0.9978</td>\n",
       "      <td>3.51</td>\n",
       "      <td>0.56</td>\n",
       "      <td>9.4</td>\n",
       "      <td>5</td>\n",
       "    </tr>\n",
       "    <tr>\n",
       "      <th>1</th>\n",
       "      <td>7.8</td>\n",
       "      <td>0.88</td>\n",
       "      <td>0.00</td>\n",
       "      <td>2.6</td>\n",
       "      <td>0.098</td>\n",
       "      <td>25.0</td>\n",
       "      <td>67.0</td>\n",
       "      <td>0.9968</td>\n",
       "      <td>3.20</td>\n",
       "      <td>0.68</td>\n",
       "      <td>9.8</td>\n",
       "      <td>5</td>\n",
       "    </tr>\n",
       "    <tr>\n",
       "      <th>2</th>\n",
       "      <td>7.8</td>\n",
       "      <td>0.76</td>\n",
       "      <td>0.04</td>\n",
       "      <td>2.3</td>\n",
       "      <td>0.092</td>\n",
       "      <td>15.0</td>\n",
       "      <td>54.0</td>\n",
       "      <td>0.9970</td>\n",
       "      <td>3.26</td>\n",
       "      <td>0.65</td>\n",
       "      <td>9.8</td>\n",
       "      <td>5</td>\n",
       "    </tr>\n",
       "    <tr>\n",
       "      <th>3</th>\n",
       "      <td>11.2</td>\n",
       "      <td>0.28</td>\n",
       "      <td>0.56</td>\n",
       "      <td>1.9</td>\n",
       "      <td>0.075</td>\n",
       "      <td>17.0</td>\n",
       "      <td>60.0</td>\n",
       "      <td>0.9980</td>\n",
       "      <td>3.16</td>\n",
       "      <td>0.58</td>\n",
       "      <td>9.8</td>\n",
       "      <td>6</td>\n",
       "    </tr>\n",
       "    <tr>\n",
       "      <th>4</th>\n",
       "      <td>7.4</td>\n",
       "      <td>0.70</td>\n",
       "      <td>0.00</td>\n",
       "      <td>1.9</td>\n",
       "      <td>0.076</td>\n",
       "      <td>11.0</td>\n",
       "      <td>34.0</td>\n",
       "      <td>0.9978</td>\n",
       "      <td>3.51</td>\n",
       "      <td>0.56</td>\n",
       "      <td>9.4</td>\n",
       "      <td>5</td>\n",
       "    </tr>\n",
       "    <tr>\n",
       "      <th>5</th>\n",
       "      <td>7.4</td>\n",
       "      <td>0.66</td>\n",
       "      <td>0.00</td>\n",
       "      <td>1.8</td>\n",
       "      <td>0.075</td>\n",
       "      <td>13.0</td>\n",
       "      <td>40.0</td>\n",
       "      <td>0.9978</td>\n",
       "      <td>3.51</td>\n",
       "      <td>0.56</td>\n",
       "      <td>9.4</td>\n",
       "      <td>5</td>\n",
       "    </tr>\n",
       "    <tr>\n",
       "      <th>6</th>\n",
       "      <td>7.9</td>\n",
       "      <td>0.60</td>\n",
       "      <td>0.06</td>\n",
       "      <td>1.6</td>\n",
       "      <td>0.069</td>\n",
       "      <td>15.0</td>\n",
       "      <td>59.0</td>\n",
       "      <td>0.9964</td>\n",
       "      <td>3.30</td>\n",
       "      <td>0.46</td>\n",
       "      <td>9.4</td>\n",
       "      <td>5</td>\n",
       "    </tr>\n",
       "    <tr>\n",
       "      <th>7</th>\n",
       "      <td>7.3</td>\n",
       "      <td>0.65</td>\n",
       "      <td>0.00</td>\n",
       "      <td>1.2</td>\n",
       "      <td>0.065</td>\n",
       "      <td>15.0</td>\n",
       "      <td>21.0</td>\n",
       "      <td>0.9946</td>\n",
       "      <td>3.39</td>\n",
       "      <td>0.47</td>\n",
       "      <td>10.0</td>\n",
       "      <td>7</td>\n",
       "    </tr>\n",
       "    <tr>\n",
       "      <th>8</th>\n",
       "      <td>7.8</td>\n",
       "      <td>0.58</td>\n",
       "      <td>0.02</td>\n",
       "      <td>2.0</td>\n",
       "      <td>0.073</td>\n",
       "      <td>9.0</td>\n",
       "      <td>18.0</td>\n",
       "      <td>0.9968</td>\n",
       "      <td>3.36</td>\n",
       "      <td>0.57</td>\n",
       "      <td>9.5</td>\n",
       "      <td>7</td>\n",
       "    </tr>\n",
       "    <tr>\n",
       "      <th>9</th>\n",
       "      <td>7.5</td>\n",
       "      <td>0.50</td>\n",
       "      <td>0.36</td>\n",
       "      <td>6.1</td>\n",
       "      <td>0.071</td>\n",
       "      <td>17.0</td>\n",
       "      <td>102.0</td>\n",
       "      <td>0.9978</td>\n",
       "      <td>3.35</td>\n",
       "      <td>0.80</td>\n",
       "      <td>10.5</td>\n",
       "      <td>5</td>\n",
       "    </tr>\n",
       "  </tbody>\n",
       "</table>\n",
       "</div>"
      ],
      "text/plain": [
       "   fixed acidity  volatile acidity  citric acid  residual sugar  chlorides  \\\n",
       "0            7.4              0.70         0.00             1.9      0.076   \n",
       "1            7.8              0.88         0.00             2.6      0.098   \n",
       "2            7.8              0.76         0.04             2.3      0.092   \n",
       "3           11.2              0.28         0.56             1.9      0.075   \n",
       "4            7.4              0.70         0.00             1.9      0.076   \n",
       "5            7.4              0.66         0.00             1.8      0.075   \n",
       "6            7.9              0.60         0.06             1.6      0.069   \n",
       "7            7.3              0.65         0.00             1.2      0.065   \n",
       "8            7.8              0.58         0.02             2.0      0.073   \n",
       "9            7.5              0.50         0.36             6.1      0.071   \n",
       "\n",
       "   free sulfur dioxide  total sulfur dioxide  density    pH  sulphates  \\\n",
       "0                 11.0                  34.0   0.9978  3.51       0.56   \n",
       "1                 25.0                  67.0   0.9968  3.20       0.68   \n",
       "2                 15.0                  54.0   0.9970  3.26       0.65   \n",
       "3                 17.0                  60.0   0.9980  3.16       0.58   \n",
       "4                 11.0                  34.0   0.9978  3.51       0.56   \n",
       "5                 13.0                  40.0   0.9978  3.51       0.56   \n",
       "6                 15.0                  59.0   0.9964  3.30       0.46   \n",
       "7                 15.0                  21.0   0.9946  3.39       0.47   \n",
       "8                  9.0                  18.0   0.9968  3.36       0.57   \n",
       "9                 17.0                 102.0   0.9978  3.35       0.80   \n",
       "\n",
       "   alcohol  quality  \n",
       "0      9.4        5  \n",
       "1      9.8        5  \n",
       "2      9.8        5  \n",
       "3      9.8        6  \n",
       "4      9.4        5  \n",
       "5      9.4        5  \n",
       "6      9.4        5  \n",
       "7     10.0        7  \n",
       "8      9.5        7  \n",
       "9     10.5        5  "
      ]
     },
     "execution_count": 1,
     "metadata": {},
     "output_type": "execute_result"
    }
   ],
   "source": [
    "import pandas as pd\n",
    "import warnings\n",
    "warnings.filterwarnings('ignore')\n",
    "\n",
    "df1 = pd.read_csv('C:/Users/USER/Desktop/Practice Project - ML/품질 중요인자 분석/품질 중요인자 분석_red.csv', sep=';')\n",
    "df2=pd.read_csv('C:/Users/USER/Desktop/Practice Project - ML/품질 중요인자 분석/품질 중요인자 분석_white.csv', sep=';')\n",
    "\n",
    "df = pd.concat([df1, df2], axis=0)\n",
    "df.reset_index(drop=True)\n",
    "df.head(10)"
   ]
  },
  {
   "cell_type": "code",
   "execution_count": 2,
   "id": "914b7a11",
   "metadata": {},
   "outputs": [
    {
     "name": "stdout",
     "output_type": "stream",
     "text": [
      "<class 'pandas.core.frame.DataFrame'>\n",
      "Int64Index: 6497 entries, 0 to 4897\n",
      "Data columns (total 12 columns):\n",
      " #   Column                Non-Null Count  Dtype  \n",
      "---  ------                --------------  -----  \n",
      " 0   fixed acidity         6497 non-null   float64\n",
      " 1   volatile acidity      6497 non-null   float64\n",
      " 2   citric acid           6497 non-null   float64\n",
      " 3   residual sugar        6497 non-null   float64\n",
      " 4   chlorides             6497 non-null   float64\n",
      " 5   free sulfur dioxide   6497 non-null   float64\n",
      " 6   total sulfur dioxide  6497 non-null   float64\n",
      " 7   density               6497 non-null   float64\n",
      " 8   pH                    6497 non-null   float64\n",
      " 9   sulphates             6497 non-null   float64\n",
      " 10  alcohol               6497 non-null   float64\n",
      " 11  quality               6497 non-null   int64  \n",
      "dtypes: float64(11), int64(1)\n",
      "memory usage: 659.9 KB\n"
     ]
    }
   ],
   "source": [
    "df.info()"
   ]
  },
  {
   "cell_type": "code",
   "execution_count": 3,
   "id": "088a8073",
   "metadata": {},
   "outputs": [
    {
     "data": {
      "text/plain": [
       "fixed acidity           0\n",
       "volatile acidity        0\n",
       "citric acid             0\n",
       "residual sugar          0\n",
       "chlorides               0\n",
       "free sulfur dioxide     0\n",
       "total sulfur dioxide    0\n",
       "density                 0\n",
       "pH                      0\n",
       "sulphates               0\n",
       "alcohol                 0\n",
       "quality                 0\n",
       "dtype: int64"
      ]
     },
     "execution_count": 3,
     "metadata": {},
     "output_type": "execute_result"
    }
   ],
   "source": [
    "df.isnull().sum()"
   ]
  },
  {
   "cell_type": "markdown",
   "id": "3c9241a3",
   "metadata": {},
   "source": [
    "#### 변수 해석 3가지  \n",
    "\n",
    "1. 결측치 존재 여부\n",
    "\n",
    "- 전체 데이터에서 모든 변수에 결측치가 존재하지 않는다.\n",
    "\n",
    "- 결측치의 개수는 전체 5% 미만이면 보통 제거한다.\n",
    "\n",
    "- 결측치를 대체하는 경우, object형태는 최빈값으로 대체하고, int64, float64형태는 평균으로 대체하거나 KNN을 사용할 수 있다.\n",
    "\n",
    "2. 데이터 타입 설명\n",
    "\n",
    "- 종속변수는 int64형태, 독립변수는 float64형태로 구성되어 있다.\n",
    "\n",
    "3. 컬럼 설명\n",
    "\n",
    "- fixed acidity : 산도\n",
    "- volatile acidity : 휘발선상\n",
    "- citric acid : 시트르산\n",
    "- residual sugar : 잔당\n",
    "- chlorides : 염화물\n",
    "- free sulfur dioxide : 독립 이산화황\n",
    "- total sulfur dioxide : 총 이산화항\n",
    "- density : 밀도\n",
    "- pH : 수소이온농도\n",
    "- sulphates : 황산염\n",
    "- alcohol : 도수\n",
    "- quality : 품질"
   ]
  },
  {
   "cell_type": "code",
   "execution_count": 4,
   "id": "0c3e882f",
   "metadata": {},
   "outputs": [
    {
     "data": {
      "text/html": [
       "<div>\n",
       "<style scoped>\n",
       "    .dataframe tbody tr th:only-of-type {\n",
       "        vertical-align: middle;\n",
       "    }\n",
       "\n",
       "    .dataframe tbody tr th {\n",
       "        vertical-align: top;\n",
       "    }\n",
       "\n",
       "    .dataframe thead th {\n",
       "        text-align: right;\n",
       "    }\n",
       "</style>\n",
       "<table border=\"1\" class=\"dataframe\">\n",
       "  <thead>\n",
       "    <tr style=\"text-align: right;\">\n",
       "      <th></th>\n",
       "      <th>fixed acidity</th>\n",
       "      <th>volatile acidity</th>\n",
       "      <th>citric acid</th>\n",
       "      <th>residual sugar</th>\n",
       "      <th>chlorides</th>\n",
       "      <th>free sulfur dioxide</th>\n",
       "      <th>total sulfur dioxide</th>\n",
       "      <th>density</th>\n",
       "      <th>pH</th>\n",
       "      <th>sulphates</th>\n",
       "      <th>alcohol</th>\n",
       "      <th>quality</th>\n",
       "    </tr>\n",
       "  </thead>\n",
       "  <tbody>\n",
       "    <tr>\n",
       "      <th>count</th>\n",
       "      <td>6497.000000</td>\n",
       "      <td>6497.000000</td>\n",
       "      <td>6497.000000</td>\n",
       "      <td>6497.000000</td>\n",
       "      <td>6497.000000</td>\n",
       "      <td>6497.000000</td>\n",
       "      <td>6497.000000</td>\n",
       "      <td>6497.000000</td>\n",
       "      <td>6497.000000</td>\n",
       "      <td>6497.000000</td>\n",
       "      <td>6497.000000</td>\n",
       "      <td>6497.000000</td>\n",
       "    </tr>\n",
       "    <tr>\n",
       "      <th>mean</th>\n",
       "      <td>7.215307</td>\n",
       "      <td>0.339666</td>\n",
       "      <td>0.318633</td>\n",
       "      <td>5.443235</td>\n",
       "      <td>0.056034</td>\n",
       "      <td>30.525319</td>\n",
       "      <td>115.744574</td>\n",
       "      <td>0.994697</td>\n",
       "      <td>3.218501</td>\n",
       "      <td>0.531268</td>\n",
       "      <td>10.491801</td>\n",
       "      <td>5.818378</td>\n",
       "    </tr>\n",
       "    <tr>\n",
       "      <th>std</th>\n",
       "      <td>1.296434</td>\n",
       "      <td>0.164636</td>\n",
       "      <td>0.145318</td>\n",
       "      <td>4.757804</td>\n",
       "      <td>0.035034</td>\n",
       "      <td>17.749400</td>\n",
       "      <td>56.521855</td>\n",
       "      <td>0.002999</td>\n",
       "      <td>0.160787</td>\n",
       "      <td>0.148806</td>\n",
       "      <td>1.192712</td>\n",
       "      <td>0.873255</td>\n",
       "    </tr>\n",
       "    <tr>\n",
       "      <th>min</th>\n",
       "      <td>3.800000</td>\n",
       "      <td>0.080000</td>\n",
       "      <td>0.000000</td>\n",
       "      <td>0.600000</td>\n",
       "      <td>0.009000</td>\n",
       "      <td>1.000000</td>\n",
       "      <td>6.000000</td>\n",
       "      <td>0.987110</td>\n",
       "      <td>2.720000</td>\n",
       "      <td>0.220000</td>\n",
       "      <td>8.000000</td>\n",
       "      <td>3.000000</td>\n",
       "    </tr>\n",
       "    <tr>\n",
       "      <th>25%</th>\n",
       "      <td>6.400000</td>\n",
       "      <td>0.230000</td>\n",
       "      <td>0.250000</td>\n",
       "      <td>1.800000</td>\n",
       "      <td>0.038000</td>\n",
       "      <td>17.000000</td>\n",
       "      <td>77.000000</td>\n",
       "      <td>0.992340</td>\n",
       "      <td>3.110000</td>\n",
       "      <td>0.430000</td>\n",
       "      <td>9.500000</td>\n",
       "      <td>5.000000</td>\n",
       "    </tr>\n",
       "    <tr>\n",
       "      <th>50%</th>\n",
       "      <td>7.000000</td>\n",
       "      <td>0.290000</td>\n",
       "      <td>0.310000</td>\n",
       "      <td>3.000000</td>\n",
       "      <td>0.047000</td>\n",
       "      <td>29.000000</td>\n",
       "      <td>118.000000</td>\n",
       "      <td>0.994890</td>\n",
       "      <td>3.210000</td>\n",
       "      <td>0.510000</td>\n",
       "      <td>10.300000</td>\n",
       "      <td>6.000000</td>\n",
       "    </tr>\n",
       "    <tr>\n",
       "      <th>75%</th>\n",
       "      <td>7.700000</td>\n",
       "      <td>0.400000</td>\n",
       "      <td>0.390000</td>\n",
       "      <td>8.100000</td>\n",
       "      <td>0.065000</td>\n",
       "      <td>41.000000</td>\n",
       "      <td>156.000000</td>\n",
       "      <td>0.996990</td>\n",
       "      <td>3.320000</td>\n",
       "      <td>0.600000</td>\n",
       "      <td>11.300000</td>\n",
       "      <td>6.000000</td>\n",
       "    </tr>\n",
       "    <tr>\n",
       "      <th>max</th>\n",
       "      <td>15.900000</td>\n",
       "      <td>1.580000</td>\n",
       "      <td>1.660000</td>\n",
       "      <td>65.800000</td>\n",
       "      <td>0.611000</td>\n",
       "      <td>289.000000</td>\n",
       "      <td>440.000000</td>\n",
       "      <td>1.038980</td>\n",
       "      <td>4.010000</td>\n",
       "      <td>2.000000</td>\n",
       "      <td>14.900000</td>\n",
       "      <td>9.000000</td>\n",
       "    </tr>\n",
       "  </tbody>\n",
       "</table>\n",
       "</div>"
      ],
      "text/plain": [
       "       fixed acidity  volatile acidity  citric acid  residual sugar  \\\n",
       "count    6497.000000       6497.000000  6497.000000     6497.000000   \n",
       "mean        7.215307          0.339666     0.318633        5.443235   \n",
       "std         1.296434          0.164636     0.145318        4.757804   \n",
       "min         3.800000          0.080000     0.000000        0.600000   \n",
       "25%         6.400000          0.230000     0.250000        1.800000   \n",
       "50%         7.000000          0.290000     0.310000        3.000000   \n",
       "75%         7.700000          0.400000     0.390000        8.100000   \n",
       "max        15.900000          1.580000     1.660000       65.800000   \n",
       "\n",
       "         chlorides  free sulfur dioxide  total sulfur dioxide      density  \\\n",
       "count  6497.000000          6497.000000           6497.000000  6497.000000   \n",
       "mean      0.056034            30.525319            115.744574     0.994697   \n",
       "std       0.035034            17.749400             56.521855     0.002999   \n",
       "min       0.009000             1.000000              6.000000     0.987110   \n",
       "25%       0.038000            17.000000             77.000000     0.992340   \n",
       "50%       0.047000            29.000000            118.000000     0.994890   \n",
       "75%       0.065000            41.000000            156.000000     0.996990   \n",
       "max       0.611000           289.000000            440.000000     1.038980   \n",
       "\n",
       "                pH    sulphates      alcohol      quality  \n",
       "count  6497.000000  6497.000000  6497.000000  6497.000000  \n",
       "mean      3.218501     0.531268    10.491801     5.818378  \n",
       "std       0.160787     0.148806     1.192712     0.873255  \n",
       "min       2.720000     0.220000     8.000000     3.000000  \n",
       "25%       3.110000     0.430000     9.500000     5.000000  \n",
       "50%       3.210000     0.510000    10.300000     6.000000  \n",
       "75%       3.320000     0.600000    11.300000     6.000000  \n",
       "max       4.010000     2.000000    14.900000     9.000000  "
      ]
     },
     "execution_count": 4,
     "metadata": {},
     "output_type": "execute_result"
    }
   ],
   "source": [
    "df.describe()"
   ]
  },
  {
   "cell_type": "markdown",
   "id": "a427aae1",
   "metadata": {},
   "source": [
    "우선 describe로 이상치를 판단하기 위해서는 mean, min, max 값을 확인하는 것이 좋다. mean과 min, mean과 max 값이 std에 비해 한참 차이가 난다면, 이상치가 있을 가능성이 높다. 이러한 이상치를 정확히 판단하기 위해서는 아래와 같이 boxplot으로 시각화하여 보는 것이 정확하다."
   ]
  },
  {
   "cell_type": "code",
   "execution_count": 5,
   "id": "140a4bdc",
   "metadata": {},
   "outputs": [
    {
     "data": {
      "text/html": [
       "<div>\n",
       "<style scoped>\n",
       "    .dataframe tbody tr th:only-of-type {\n",
       "        vertical-align: middle;\n",
       "    }\n",
       "\n",
       "    .dataframe tbody tr th {\n",
       "        vertical-align: top;\n",
       "    }\n",
       "\n",
       "    .dataframe thead th {\n",
       "        text-align: right;\n",
       "    }\n",
       "</style>\n",
       "<table border=\"1\" class=\"dataframe\">\n",
       "  <thead>\n",
       "    <tr style=\"text-align: right;\">\n",
       "      <th></th>\n",
       "      <th>이상치 탐색 변수</th>\n",
       "      <th>이상치 탐색 값</th>\n",
       "    </tr>\n",
       "  </thead>\n",
       "  <tbody>\n",
       "    <tr>\n",
       "      <th>0</th>\n",
       "      <td>fixed acidity</td>\n",
       "      <td>7.4</td>\n",
       "    </tr>\n",
       "    <tr>\n",
       "      <th>1</th>\n",
       "      <td>fixed acidity</td>\n",
       "      <td>7.8</td>\n",
       "    </tr>\n",
       "    <tr>\n",
       "      <th>2</th>\n",
       "      <td>fixed acidity</td>\n",
       "      <td>7.8</td>\n",
       "    </tr>\n",
       "    <tr>\n",
       "      <th>3</th>\n",
       "      <td>fixed acidity</td>\n",
       "      <td>11.2</td>\n",
       "    </tr>\n",
       "    <tr>\n",
       "      <th>4</th>\n",
       "      <td>fixed acidity</td>\n",
       "      <td>7.4</td>\n",
       "    </tr>\n",
       "    <tr>\n",
       "      <th>...</th>\n",
       "      <td>...</td>\n",
       "      <td>...</td>\n",
       "    </tr>\n",
       "    <tr>\n",
       "      <th>77959</th>\n",
       "      <td>quality</td>\n",
       "      <td>6.0</td>\n",
       "    </tr>\n",
       "    <tr>\n",
       "      <th>77960</th>\n",
       "      <td>quality</td>\n",
       "      <td>5.0</td>\n",
       "    </tr>\n",
       "    <tr>\n",
       "      <th>77961</th>\n",
       "      <td>quality</td>\n",
       "      <td>6.0</td>\n",
       "    </tr>\n",
       "    <tr>\n",
       "      <th>77962</th>\n",
       "      <td>quality</td>\n",
       "      <td>7.0</td>\n",
       "    </tr>\n",
       "    <tr>\n",
       "      <th>77963</th>\n",
       "      <td>quality</td>\n",
       "      <td>6.0</td>\n",
       "    </tr>\n",
       "  </tbody>\n",
       "</table>\n",
       "<p>77964 rows × 2 columns</p>\n",
       "</div>"
      ],
      "text/plain": [
       "           이상치 탐색 변수  이상치 탐색 값\n",
       "0      fixed acidity       7.4\n",
       "1      fixed acidity       7.8\n",
       "2      fixed acidity       7.8\n",
       "3      fixed acidity      11.2\n",
       "4      fixed acidity       7.4\n",
       "...              ...       ...\n",
       "77959        quality       6.0\n",
       "77960        quality       5.0\n",
       "77961        quality       6.0\n",
       "77962        quality       7.0\n",
       "77963        quality       6.0\n",
       "\n",
       "[77964 rows x 2 columns]"
      ]
     },
     "execution_count": 5,
     "metadata": {},
     "output_type": "execute_result"
    }
   ],
   "source": [
    "outlier = pd.melt(df, var_name = '이상치 탐색 변수', value_name = '이상치 탐색 값')\n",
    "outlier"
   ]
  },
  {
   "cell_type": "code",
   "execution_count": 8,
   "id": "b064c9d8",
   "metadata": {},
   "outputs": [
    {
     "data": {
      "image/png": "[encoded data removed]",
      "text/plain": [
       "<Figure size 3000x1200 with 1 Axes>"
      ]
     },
     "metadata": {},
     "output_type": "display_data"
    }
   ],
   "source": [
    "import seaborn as sns\n",
    "import matplotlib.pyplot as plt\n",
    "%matplotlib inline\n",
    "from matplotlib import rc\n",
    "rc(\"font\", family = 'Malgun Gothic')\n",
    "plt.rcParams['axes.unicode_minus'] = False\n",
    "\n",
    "plt.figure(figsize = (30,12))\n",
    "sns.boxplot(x = '이상치 탐색 변수', y = '이상치 탐색 값', data = outlier)\n",
    "plt.xticks(range(12), df.columns)\n",
    "plt.show()"
   ]
  },
  {
   "cell_type": "markdown",
   "id": "cf0655ad",
   "metadata": {},
   "source": [
    "이상치를 탐색하기 위해서 수치형 변수들만 선택해서 boxplot으로 시각화하였다. 이상치의 값이 연속적으로 나타나면, 보통 의미있는 값일 확률이 높기 때문에 따로 제거하거나 대체하지 않고, 눈에 띄는 이상치가 있을 경우에는 보통 제거하거나 대체하는 경우가 많다(예를 들어, Age 변수가 999값이 있으면 제거하거나 대체하는 것이 옳다.)"
   ]
  },
  {
   "cell_type": "code",
   "execution_count": 9,
   "id": "ad8656a8",
   "metadata": {},
   "outputs": [
    {
     "data": {
      "text/plain": [
       "6    2836\n",
       "5    2138\n",
       "7    1079\n",
       "4     216\n",
       "8     193\n",
       "3      30\n",
       "9       5\n",
       "Name: quality, dtype: int64"
      ]
     },
     "execution_count": 9,
     "metadata": {},
     "output_type": "execute_result"
    }
   ],
   "source": [
    "df['quality'].value_counts()"
   ]
  },
  {
   "cell_type": "markdown",
   "id": "dd81dff0",
   "metadata": {},
   "source": [
    "7, 8, 9등급의 Wine이 현저하게 적은 것을 확인할 수 있다"
   ]
  },
  {
   "cell_type": "code",
   "execution_count": 10,
   "id": "2034b0a8",
   "metadata": {},
   "outputs": [
    {
     "data": {
      "text/html": [
       "<div>\n",
       "<style scoped>\n",
       "    .dataframe tbody tr th:only-of-type {\n",
       "        vertical-align: middle;\n",
       "    }\n",
       "\n",
       "    .dataframe tbody tr th {\n",
       "        vertical-align: top;\n",
       "    }\n",
       "\n",
       "    .dataframe thead th {\n",
       "        text-align: right;\n",
       "    }\n",
       "</style>\n",
       "<table border=\"1\" class=\"dataframe\">\n",
       "  <thead>\n",
       "    <tr style=\"text-align: right;\">\n",
       "      <th></th>\n",
       "      <th>fixed acidity</th>\n",
       "      <th>volatile acidity</th>\n",
       "      <th>citric acid</th>\n",
       "      <th>residual sugar</th>\n",
       "      <th>chlorides</th>\n",
       "      <th>free sulfur dioxide</th>\n",
       "      <th>total sulfur dioxide</th>\n",
       "      <th>density</th>\n",
       "      <th>pH</th>\n",
       "      <th>sulphates</th>\n",
       "      <th>alcohol</th>\n",
       "      <th>quality</th>\n",
       "      <th>target</th>\n",
       "    </tr>\n",
       "  </thead>\n",
       "  <tbody>\n",
       "    <tr>\n",
       "      <th>0</th>\n",
       "      <td>7.4</td>\n",
       "      <td>0.70</td>\n",
       "      <td>0.00</td>\n",
       "      <td>1.9</td>\n",
       "      <td>0.076</td>\n",
       "      <td>11.0</td>\n",
       "      <td>34.0</td>\n",
       "      <td>0.9978</td>\n",
       "      <td>3.51</td>\n",
       "      <td>0.56</td>\n",
       "      <td>9.4</td>\n",
       "      <td>5</td>\n",
       "      <td>0</td>\n",
       "    </tr>\n",
       "    <tr>\n",
       "      <th>1</th>\n",
       "      <td>7.8</td>\n",
       "      <td>0.88</td>\n",
       "      <td>0.00</td>\n",
       "      <td>2.6</td>\n",
       "      <td>0.098</td>\n",
       "      <td>25.0</td>\n",
       "      <td>67.0</td>\n",
       "      <td>0.9968</td>\n",
       "      <td>3.20</td>\n",
       "      <td>0.68</td>\n",
       "      <td>9.8</td>\n",
       "      <td>5</td>\n",
       "      <td>0</td>\n",
       "    </tr>\n",
       "    <tr>\n",
       "      <th>2</th>\n",
       "      <td>7.8</td>\n",
       "      <td>0.76</td>\n",
       "      <td>0.04</td>\n",
       "      <td>2.3</td>\n",
       "      <td>0.092</td>\n",
       "      <td>15.0</td>\n",
       "      <td>54.0</td>\n",
       "      <td>0.9970</td>\n",
       "      <td>3.26</td>\n",
       "      <td>0.65</td>\n",
       "      <td>9.8</td>\n",
       "      <td>5</td>\n",
       "      <td>0</td>\n",
       "    </tr>\n",
       "    <tr>\n",
       "      <th>3</th>\n",
       "      <td>11.2</td>\n",
       "      <td>0.28</td>\n",
       "      <td>0.56</td>\n",
       "      <td>1.9</td>\n",
       "      <td>0.075</td>\n",
       "      <td>17.0</td>\n",
       "      <td>60.0</td>\n",
       "      <td>0.9980</td>\n",
       "      <td>3.16</td>\n",
       "      <td>0.58</td>\n",
       "      <td>9.8</td>\n",
       "      <td>6</td>\n",
       "      <td>0</td>\n",
       "    </tr>\n",
       "    <tr>\n",
       "      <th>4</th>\n",
       "      <td>7.4</td>\n",
       "      <td>0.70</td>\n",
       "      <td>0.00</td>\n",
       "      <td>1.9</td>\n",
       "      <td>0.076</td>\n",
       "      <td>11.0</td>\n",
       "      <td>34.0</td>\n",
       "      <td>0.9978</td>\n",
       "      <td>3.51</td>\n",
       "      <td>0.56</td>\n",
       "      <td>9.4</td>\n",
       "      <td>5</td>\n",
       "      <td>0</td>\n",
       "    </tr>\n",
       "  </tbody>\n",
       "</table>\n",
       "</div>"
      ],
      "text/plain": [
       "   fixed acidity  volatile acidity  citric acid  residual sugar  chlorides  \\\n",
       "0            7.4              0.70         0.00             1.9      0.076   \n",
       "1            7.8              0.88         0.00             2.6      0.098   \n",
       "2            7.8              0.76         0.04             2.3      0.092   \n",
       "3           11.2              0.28         0.56             1.9      0.075   \n",
       "4            7.4              0.70         0.00             1.9      0.076   \n",
       "\n",
       "   free sulfur dioxide  total sulfur dioxide  density    pH  sulphates  \\\n",
       "0                 11.0                  34.0   0.9978  3.51       0.56   \n",
       "1                 25.0                  67.0   0.9968  3.20       0.68   \n",
       "2                 15.0                  54.0   0.9970  3.26       0.65   \n",
       "3                 17.0                  60.0   0.9980  3.16       0.58   \n",
       "4                 11.0                  34.0   0.9978  3.51       0.56   \n",
       "\n",
       "   alcohol  quality  target  \n",
       "0      9.4        5       0  \n",
       "1      9.8        5       0  \n",
       "2      9.8        5       0  \n",
       "3      9.8        6       0  \n",
       "4      9.4        5       0  "
      ]
     },
     "execution_count": 10,
     "metadata": {},
     "output_type": "execute_result"
    }
   ],
   "source": [
    "import numpy as np\n",
    "df['target'] = np.where(df['quality']>6, 1, 0)\n",
    "df.head(5)"
   ]
  },
  {
   "cell_type": "markdown",
   "id": "1add8749",
   "metadata": {},
   "source": [
    "7등급 이상의 Wine을 프리미엄 Wine으로 정의하고 target data를 생성한다"
   ]
  },
  {
   "cell_type": "code",
   "execution_count": 11,
   "id": "8e94c8c2",
   "metadata": {},
   "outputs": [
    {
     "data": {
      "text/plain": [
       "0    5220\n",
       "1    1277\n",
       "Name: target, dtype: int64"
      ]
     },
     "execution_count": 11,
     "metadata": {},
     "output_type": "execute_result"
    }
   ],
   "source": [
    "df['target'].value_counts()"
   ]
  },
  {
   "cell_type": "markdown",
   "id": "e190250b",
   "metadata": {},
   "source": [
    "프리미엄 Wine을 예측하는 Classification 문제에서 target data를 활용해준다"
   ]
  },
  {
   "cell_type": "code",
   "execution_count": 12,
   "id": "a00aae8a",
   "metadata": {},
   "outputs": [
    {
     "name": "stdout",
     "output_type": "stream",
     "text": [
      "평균 프리미엄 와인 확률 :  19.655225488687087\n"
     ]
    }
   ],
   "source": [
    "print(\"평균 프리미엄 와인 확률 : \", (1277/(1277+5220))*100)"
   ]
  },
  {
   "cell_type": "markdown",
   "id": "47f6b6ba",
   "metadata": {},
   "source": [
    "### 품질 중요인자 탐색"
   ]
  },
  {
   "cell_type": "code",
   "execution_count": 13,
   "id": "f0b23d8d",
   "metadata": {},
   "outputs": [
    {
     "data": {
      "image/png": "[encoded data removed]",
      "text/plain": [
       "<Figure size 1000x1000 with 2 Axes>"
      ]
     },
     "metadata": {},
     "output_type": "display_data"
    }
   ],
   "source": [
    "sns.heatmap(df.corr(), vmin = -1, vmax = +1, annot = True, cmap = 'coolwarm');\n",
    "plt.gcf().set_size_inches(10, 10)"
   ]
  },
  {
   "cell_type": "code",
   "execution_count": 14,
   "id": "136c2781",
   "metadata": {},
   "outputs": [
    {
     "data": {
      "image/png": "[encoded data removed]",
      "text/plain": [
       "<Figure size 2000x600 with 3 Axes>"
      ]
     },
     "metadata": {},
     "output_type": "display_data"
    }
   ],
   "source": [
    "fig, axes = plt.subplots(1, 3)\n",
    "sns.scatterplot(data = df, x='volatile acidity', y='quality', linewidth=0, ax=axes[0]);\n",
    "sns.scatterplot(x=df[df['density']<1]['density'], y=df[df['density']<1]['quality'], linewidth=0, ax=axes[1]);\n",
    "sns.scatterplot(x=df['alcohol'], y=df['quality'], linewidth=0, ax=axes[2]);\n",
    "plt.gcf().set_size_inches(20, 6)"
   ]
  },
  {
   "cell_type": "markdown",
   "id": "9a451c86",
   "metadata": {},
   "source": [
    "상관계수(0.2) 이상의 상관관계를 가지는 변수 집중 탐색한 결과, Wine 등급이 올라갈수록 volatile acidity(휘발선상)이 낮아지는 경향성이 보이는 것을 알 수 있다"
   ]
  },
  {
   "cell_type": "markdown",
   "id": "c6e72c24",
   "metadata": {},
   "source": [
    "## 선형회귀 활용 중요인자 도출 "
   ]
  },
  {
   "cell_type": "code",
   "execution_count": 15,
   "id": "c145b340",
   "metadata": {},
   "outputs": [
    {
     "name": "stdout",
     "output_type": "stream",
     "text": [
      "(4547, 11)\n",
      "(4547,)\n",
      "(1950, 11)\n",
      "(1950,)\n"
     ]
    }
   ],
   "source": [
    "from sklearn.model_selection import train_test_split\n",
    "from sklearn import metrics\n",
    "\n",
    "X=df.drop(['quality', 'target'], axis=1)\n",
    "Y=df['quality']\n",
    "\n",
    "x_train, x_test, y_train, y_test = train_test_split(X, Y, test_size=0.3)\n",
    "\n",
    "print(x_train.shape)\n",
    "print(y_train.shape)\n",
    "\n",
    "print(x_test.shape)\n",
    "print(y_test.shape)"
   ]
  },
  {
   "cell_type": "markdown",
   "id": "4f088436",
   "metadata": {},
   "source": [
    "- 데이터 분리할 때, 분류분석은 stratify를 통해 층화추출하고 회귀분석은 동일한 비율로 나눌수가 없기 때문에 stratify 옵션을 사용하지 않는다\n",
    "\n",
    "- 보통 데이터 행의 개수와 비슷한 차원이 있는 컬럼은 제거하고 모델링 하는 것이 좋다. 예를 들어, id 같은 것들. 각각의 값이 전부 유니크하면 제거한다\n",
    "\n",
    "- 새로 만든 파생변수나 기존 컬럼과 동일한 의미의 컬럼들도 제거한다\n",
    "\n",
    "- 범주형 변수의 값이 3-4개가 적당하고 20개가 넘는 변수는 보통 삭제하고 모델링하는게 좋은데, 처음에는 어떤 변수가 중요한지 모르니 일단 전부 투입시키고 하는게 좋다. 이러한 경우, 범주형 변수들을 인코딩 하면 차원이 워낙 많다보니까 오류 방지 차원에서 train과 test의 값을 합쳐서 만들고 fit 시켜줘야한다\n",
    "\n",
    "- 분석 시간이 많다 = 범주형 변수들을 하나하나 제거해보면서 모델링\n",
    "\n",
    "- 분석 시간이 없다 = 효율성을 위해 train과 test의 값을 한번에 fit해서 모델링"
   ]
  },
  {
   "cell_type": "markdown",
   "id": "ab25017d",
   "metadata": {},
   "source": [
    "선형회귀 실습에서는 사전에 정의한 target data를 사용하지 않고, 기존 quality를 예측한다"
   ]
  },
  {
   "cell_type": "code",
   "execution_count": 16,
   "id": "e4608044",
   "metadata": {},
   "outputs": [
    {
     "data": {
      "text/plain": [
       "LinearRegression()"
      ]
     },
     "execution_count": 16,
     "metadata": {},
     "output_type": "execute_result"
    }
   ],
   "source": [
    "from sklearn.linear_model import LinearRegression\n",
    "mlr = LinearRegression()\n",
    "mlr.fit(x_train, y_train) "
   ]
  },
  {
   "cell_type": "code",
   "execution_count": 17,
   "id": "005b6c1d",
   "metadata": {},
   "outputs": [
    {
     "name": "stdout",
     "output_type": "stream",
     "text": [
      "mae_train(mae):  0.5642908559103818\n",
      "r2_score(r2):  0.29863719012785894\n",
      "\n",
      "mae_test(mae):  0.5821288187016291\n",
      "r2_score(r2):  0.27350983549417873\n"
     ]
    }
   ],
   "source": [
    "from sklearn.metrics import mean_absolute_error, r2_score\n",
    "y_pred_train = mlr.predict(x_train)\n",
    "y_pred_test = mlr.predict(x_test)\n",
    "\n",
    "\n",
    "mae_train = mean_absolute_error(y_train, y_pred_train)\n",
    "print('mae_train(mae): ', mae_train)\n",
    "r2_train = r2_score(y_train, y_pred_train)\n",
    "print('r2_score(r2): ', r2_train)\n",
    "print('')\n",
    "mae_test = mean_absolute_error(y_test, y_pred_test)\n",
    "print('mae_test(mae): ', mae_test)\n",
    "r2_test = r2_score(y_test, y_pred_test)\n",
    "print('r2_score(r2): ', r2_test)"
   ]
  },
  {
   "cell_type": "markdown",
   "id": "09192407",
   "metadata": {},
   "source": [
    "단순히 mae를 보고 58점 차이가 난다고 생각할 수 있지만, 그래프를 그려보면 실제로 차이가 많이나는 값들이 있을 수도 있기 때문에 주의가 필요하다\n",
    "\n",
    "r2의 값이 차이가 적으므로 과적합이 발생했다고 할 수 없다"
   ]
  },
  {
   "cell_type": "code",
   "execution_count": 18,
   "id": "662acd4e",
   "metadata": {},
   "outputs": [
    {
     "data": {
      "text/html": [
       "<div>\n",
       "<style scoped>\n",
       "    .dataframe tbody tr th:only-of-type {\n",
       "        vertical-align: middle;\n",
       "    }\n",
       "\n",
       "    .dataframe tbody tr th {\n",
       "        vertical-align: top;\n",
       "    }\n",
       "\n",
       "    .dataframe thead th {\n",
       "        text-align: right;\n",
       "    }\n",
       "</style>\n",
       "<table border=\"1\" class=\"dataframe\">\n",
       "  <thead>\n",
       "    <tr style=\"text-align: right;\">\n",
       "      <th></th>\n",
       "      <th>Real Values</th>\n",
       "      <th>Predicted Values</th>\n",
       "      <th>diff</th>\n",
       "    </tr>\n",
       "  </thead>\n",
       "  <tbody>\n",
       "    <tr>\n",
       "      <th>0</th>\n",
       "      <td>5</td>\n",
       "      <td>5.345379</td>\n",
       "      <td>-0.345379</td>\n",
       "    </tr>\n",
       "    <tr>\n",
       "      <th>1</th>\n",
       "      <td>5</td>\n",
       "      <td>5.261835</td>\n",
       "      <td>-0.261835</td>\n",
       "    </tr>\n",
       "    <tr>\n",
       "      <th>2</th>\n",
       "      <td>6</td>\n",
       "      <td>6.428616</td>\n",
       "      <td>-0.428616</td>\n",
       "    </tr>\n",
       "    <tr>\n",
       "      <th>3</th>\n",
       "      <td>5</td>\n",
       "      <td>5.721059</td>\n",
       "      <td>-0.721059</td>\n",
       "    </tr>\n",
       "    <tr>\n",
       "      <th>4</th>\n",
       "      <td>5</td>\n",
       "      <td>5.276663</td>\n",
       "      <td>-0.276663</td>\n",
       "    </tr>\n",
       "  </tbody>\n",
       "</table>\n",
       "</div>"
      ],
      "text/plain": [
       "   Real Values  Predicted Values      diff\n",
       "0            5          5.345379 -0.345379\n",
       "1            5          5.261835 -0.261835\n",
       "2            6          6.428616 -0.428616\n",
       "3            5          5.721059 -0.721059\n",
       "4            5          5.276663 -0.276663"
      ]
     },
     "execution_count": 18,
     "metadata": {},
     "output_type": "execute_result"
    }
   ],
   "source": [
    "df_result = pd.DataFrame({'Real Values':y_test, 'Predicted Values':y_pred_test}).reset_index(drop=True)\n",
    "df_result['diff'] = df_result['Real Values'] - df_result['Predicted Values']\n",
    "df_result.head(5)"
   ]
  },
  {
   "cell_type": "markdown",
   "id": "92a730c8",
   "metadata": {},
   "source": [
    "실제 값과 예측 값에 대해 표현을 diff로 생성해준다"
   ]
  },
  {
   "cell_type": "code",
   "execution_count": 19,
   "id": "de008d4c",
   "metadata": {},
   "outputs": [
    {
     "data": {
      "image/png": "[encoded data removed]",
      "text/plain": [
       "<Figure size 1000x1000 with 1 Axes>"
      ]
     },
     "metadata": {},
     "output_type": "display_data"
    }
   ],
   "source": [
    "plt.scatter(y_test, y_pred_test, alpha=0.4)\n",
    "plt.xlabel(\"Actual\")\n",
    "plt.ylabel(\"Predicted\")\n",
    "plt.title(\"MULTIPLE LINEAR REGRESSION\")\n",
    "plt.gcf().set_size_inches(10, 10)\n",
    "plt.show()"
   ]
  },
  {
   "cell_type": "markdown",
   "id": "01dd22d4",
   "metadata": {},
   "source": [
    "예측 모델이 얼마나 실제 문제를 잘 설명하는 가를 그래프로 표현해본다. 대각선의 형태가 아닌 값들이 대부분인 것을 알 수 있고, 설명력이 낮음을 의미한다"
   ]
  },
  {
   "cell_type": "code",
   "execution_count": 20,
   "id": "92637be9",
   "metadata": {},
   "outputs": [
    {
     "data": {
      "text/html": [
       "<div>\n",
       "<style scoped>\n",
       "    .dataframe tbody tr th:only-of-type {\n",
       "        vertical-align: middle;\n",
       "    }\n",
       "\n",
       "    .dataframe tbody tr th {\n",
       "        vertical-align: top;\n",
       "    }\n",
       "\n",
       "    .dataframe thead th {\n",
       "        text-align: right;\n",
       "    }\n",
       "</style>\n",
       "<table border=\"1\" class=\"dataframe\">\n",
       "  <thead>\n",
       "    <tr style=\"text-align: right;\">\n",
       "      <th></th>\n",
       "      <th>Real Values</th>\n",
       "      <th>Predicted Values</th>\n",
       "      <th>diff</th>\n",
       "    </tr>\n",
       "  </thead>\n",
       "  <tbody>\n",
       "    <tr>\n",
       "      <th>931</th>\n",
       "      <td>5</td>\n",
       "      <td>5.0</td>\n",
       "      <td>0.0</td>\n",
       "    </tr>\n",
       "    <tr>\n",
       "      <th>370</th>\n",
       "      <td>5</td>\n",
       "      <td>5.0</td>\n",
       "      <td>0.0</td>\n",
       "    </tr>\n",
       "    <tr>\n",
       "      <th>4209</th>\n",
       "      <td>6</td>\n",
       "      <td>6.0</td>\n",
       "      <td>0.0</td>\n",
       "    </tr>\n",
       "    <tr>\n",
       "      <th>1887</th>\n",
       "      <td>5</td>\n",
       "      <td>6.0</td>\n",
       "      <td>-1.0</td>\n",
       "    </tr>\n",
       "    <tr>\n",
       "      <th>1673</th>\n",
       "      <td>5</td>\n",
       "      <td>5.0</td>\n",
       "      <td>0.0</td>\n",
       "    </tr>\n",
       "  </tbody>\n",
       "</table>\n",
       "</div>"
      ],
      "text/plain": [
       "      Real Values  Predicted Values  diff\n",
       "931             5               5.0   0.0\n",
       "370             5               5.0   0.0\n",
       "4209            6               6.0   0.0\n",
       "1887            5               6.0  -1.0\n",
       "1673            5               5.0   0.0"
      ]
     },
     "execution_count": 20,
     "metadata": {},
     "output_type": "execute_result"
    }
   ],
   "source": [
    "df_result = pd.DataFrame({'Real Values':y_test, 'Predicted Values':list(round(df_result['Predicted Values'],0))})\n",
    "df_result['diff'] = df_result['Real Values'] - df_result['Predicted Values']\n",
    "df_result.head(5)"
   ]
  },
  {
   "cell_type": "markdown",
   "id": "006020f5",
   "metadata": {},
   "source": [
    "실제 값과 예측 값에 대해 표현을 정수값으로 변환시켜준다"
   ]
  },
  {
   "cell_type": "code",
   "execution_count": 22,
   "id": "3b8af8ed",
   "metadata": {},
   "outputs": [
    {
     "data": {
      "text/plain": [
       "0.5374358974358975"
      ]
     },
     "execution_count": 22,
     "metadata": {},
     "output_type": "execute_result"
    }
   ],
   "source": [
    "abs(df_result['diff']).mean()"
   ]
  },
  {
   "cell_type": "code",
   "execution_count": 23,
   "id": "cf47f2c7",
   "metadata": {},
   "outputs": [
    {
     "data": {
      "text/plain": [
       "array([5.34537861, 5.26183457, 6.4286163 , ..., 6.14735488, 5.44310982,\n",
       "       5.42762391])"
      ]
     },
     "execution_count": 23,
     "metadata": {},
     "output_type": "execute_result"
    }
   ],
   "source": [
    "y_pred_test"
   ]
  },
  {
   "cell_type": "code",
   "execution_count": 24,
   "id": "66919a7c",
   "metadata": {},
   "outputs": [
    {
     "data": {
      "text/plain": [
       "array([5, 5, 6, ..., 6, 5, 5])"
      ]
     },
     "execution_count": 24,
     "metadata": {},
     "output_type": "execute_result"
    }
   ],
   "source": [
    "np.round(y_pred_test, 0).astype(int)"
   ]
  },
  {
   "cell_type": "markdown",
   "id": "e2056b60",
   "metadata": {},
   "source": [
    "array 형태에 round를 사용할 때는 np.round로 사용해야한다"
   ]
  },
  {
   "cell_type": "code",
   "execution_count": 25,
   "id": "b05c0ec5",
   "metadata": {},
   "outputs": [
    {
     "name": "stdout",
     "output_type": "stream",
     "text": [
      "mae_test(mae):  0.5374358974358975\n",
      "r2_score(r2):  0.1385045984780644\n"
     ]
    }
   ],
   "source": [
    "pred_test = np.round(y_pred_test, 0).astype(int)\n",
    "mae_test = mean_absolute_error(y_test, pred_test )\n",
    "print('mae_test(mae): ', mae_test)\n",
    "r2_test = r2_score(y_test,np.round(y_pred_test, 0))\n",
    "print('r2_score(r2): ', r2_test)"
   ]
  },
  {
   "cell_type": "markdown",
   "id": "b86db056",
   "metadata": {},
   "source": [
    "정수로 변형된 y 값에 대한 mae,r2 값이 낮은 이유는 소수점자리까지 상세한 분석이 진행되지 않았기 때문이다. 정수형 변환의 이유는 실제값과 예측값의 차이를 직관적으로 보기 위함이다"
   ]
  },
  {
   "cell_type": "code",
   "execution_count": 26,
   "id": "c0b723df",
   "metadata": {},
   "outputs": [
    {
     "data": {
      "text/html": [
       "<div>\n",
       "<style scoped>\n",
       "    .dataframe tbody tr th:only-of-type {\n",
       "        vertical-align: middle;\n",
       "    }\n",
       "\n",
       "    .dataframe tbody tr th {\n",
       "        vertical-align: top;\n",
       "    }\n",
       "\n",
       "    .dataframe thead th {\n",
       "        text-align: right;\n",
       "    }\n",
       "</style>\n",
       "<table border=\"1\" class=\"dataframe\">\n",
       "  <thead>\n",
       "    <tr style=\"text-align: right;\">\n",
       "      <th></th>\n",
       "      <th>col</th>\n",
       "      <th>coef</th>\n",
       "    </tr>\n",
       "  </thead>\n",
       "  <tbody>\n",
       "    <tr>\n",
       "      <th>0</th>\n",
       "      <td>fixed acidity</td>\n",
       "      <td>0.038020</td>\n",
       "    </tr>\n",
       "    <tr>\n",
       "      <th>1</th>\n",
       "      <td>volatile acidity</td>\n",
       "      <td>-1.300456</td>\n",
       "    </tr>\n",
       "    <tr>\n",
       "      <th>2</th>\n",
       "      <td>citric acid</td>\n",
       "      <td>0.016419</td>\n",
       "    </tr>\n",
       "    <tr>\n",
       "      <th>3</th>\n",
       "      <td>residual sugar</td>\n",
       "      <td>0.038126</td>\n",
       "    </tr>\n",
       "    <tr>\n",
       "      <th>4</th>\n",
       "      <td>chlorides</td>\n",
       "      <td>-0.516810</td>\n",
       "    </tr>\n",
       "    <tr>\n",
       "      <th>5</th>\n",
       "      <td>free sulfur dioxide</td>\n",
       "      <td>0.005075</td>\n",
       "    </tr>\n",
       "    <tr>\n",
       "      <th>6</th>\n",
       "      <td>total sulfur dioxide</td>\n",
       "      <td>-0.002486</td>\n",
       "    </tr>\n",
       "    <tr>\n",
       "      <th>7</th>\n",
       "      <td>density</td>\n",
       "      <td>-46.554602</td>\n",
       "    </tr>\n",
       "    <tr>\n",
       "      <th>8</th>\n",
       "      <td>pH</td>\n",
       "      <td>0.283764</td>\n",
       "    </tr>\n",
       "    <tr>\n",
       "      <th>9</th>\n",
       "      <td>sulphates</td>\n",
       "      <td>0.728039</td>\n",
       "    </tr>\n",
       "    <tr>\n",
       "      <th>10</th>\n",
       "      <td>alcohol</td>\n",
       "      <td>0.275438</td>\n",
       "    </tr>\n",
       "  </tbody>\n",
       "</table>\n",
       "</div>"
      ],
      "text/plain": [
       "                     col       coef\n",
       "0          fixed acidity   0.038020\n",
       "1       volatile acidity  -1.300456\n",
       "2            citric acid   0.016419\n",
       "3         residual sugar   0.038126\n",
       "4              chlorides  -0.516810\n",
       "5    free sulfur dioxide   0.005075\n",
       "6   total sulfur dioxide  -0.002486\n",
       "7                density -46.554602\n",
       "8                     pH   0.283764\n",
       "9              sulphates   0.728039\n",
       "10               alcohol   0.275438"
      ]
     },
     "execution_count": 26,
     "metadata": {},
     "output_type": "execute_result"
    }
   ],
   "source": [
    "df_coef = pd.DataFrame({'col':X.columns, 'coef':mlr.coef_}).reset_index(drop=True)\n",
    "df_coef"
   ]
  },
  {
   "cell_type": "markdown",
   "id": "75e64045",
   "metadata": {},
   "source": [
    "회귀식의 장점은 계수(Coefficient)로 어느 정도 설명이 가능하다"
   ]
  },
  {
   "cell_type": "code",
   "execution_count": 27,
   "id": "7afcee53",
   "metadata": {},
   "outputs": [
    {
     "data": {
      "text/html": [
       "<div>\n",
       "<style scoped>\n",
       "    .dataframe tbody tr th:only-of-type {\n",
       "        vertical-align: middle;\n",
       "    }\n",
       "\n",
       "    .dataframe tbody tr th {\n",
       "        vertical-align: top;\n",
       "    }\n",
       "\n",
       "    .dataframe thead th {\n",
       "        text-align: right;\n",
       "    }\n",
       "</style>\n",
       "<table border=\"1\" class=\"dataframe\">\n",
       "  <thead>\n",
       "    <tr style=\"text-align: right;\">\n",
       "      <th></th>\n",
       "      <th>fixed acidity</th>\n",
       "      <th>volatile acidity</th>\n",
       "      <th>citric acid</th>\n",
       "      <th>residual sugar</th>\n",
       "      <th>chlorides</th>\n",
       "      <th>free sulfur dioxide</th>\n",
       "      <th>total sulfur dioxide</th>\n",
       "      <th>density</th>\n",
       "      <th>pH</th>\n",
       "      <th>sulphates</th>\n",
       "      <th>alcohol</th>\n",
       "      <th>quality</th>\n",
       "      <th>target</th>\n",
       "    </tr>\n",
       "  </thead>\n",
       "  <tbody>\n",
       "    <tr>\n",
       "      <th>fixed acidity</th>\n",
       "      <td>NaN</td>\n",
       "      <td>NaN</td>\n",
       "      <td>NaN</td>\n",
       "      <td>NaN</td>\n",
       "      <td>NaN</td>\n",
       "      <td>NaN</td>\n",
       "      <td>NaN</td>\n",
       "      <td>NaN</td>\n",
       "      <td>NaN</td>\n",
       "      <td>NaN</td>\n",
       "      <td>NaN</td>\n",
       "      <td>NaN</td>\n",
       "      <td>NaN</td>\n",
       "    </tr>\n",
       "    <tr>\n",
       "      <th>volatile acidity</th>\n",
       "      <td>NaN</td>\n",
       "      <td>NaN</td>\n",
       "      <td>NaN</td>\n",
       "      <td>NaN</td>\n",
       "      <td>NaN</td>\n",
       "      <td>NaN</td>\n",
       "      <td>NaN</td>\n",
       "      <td>NaN</td>\n",
       "      <td>NaN</td>\n",
       "      <td>NaN</td>\n",
       "      <td>NaN</td>\n",
       "      <td>NaN</td>\n",
       "      <td>NaN</td>\n",
       "    </tr>\n",
       "    <tr>\n",
       "      <th>citric acid</th>\n",
       "      <td>NaN</td>\n",
       "      <td>NaN</td>\n",
       "      <td>NaN</td>\n",
       "      <td>NaN</td>\n",
       "      <td>NaN</td>\n",
       "      <td>NaN</td>\n",
       "      <td>NaN</td>\n",
       "      <td>NaN</td>\n",
       "      <td>NaN</td>\n",
       "      <td>NaN</td>\n",
       "      <td>NaN</td>\n",
       "      <td>NaN</td>\n",
       "      <td>NaN</td>\n",
       "    </tr>\n",
       "    <tr>\n",
       "      <th>residual sugar</th>\n",
       "      <td>NaN</td>\n",
       "      <td>NaN</td>\n",
       "      <td>NaN</td>\n",
       "      <td>NaN</td>\n",
       "      <td>NaN</td>\n",
       "      <td>NaN</td>\n",
       "      <td>NaN</td>\n",
       "      <td>0.552517</td>\n",
       "      <td>NaN</td>\n",
       "      <td>NaN</td>\n",
       "      <td>NaN</td>\n",
       "      <td>NaN</td>\n",
       "      <td>NaN</td>\n",
       "    </tr>\n",
       "    <tr>\n",
       "      <th>chlorides</th>\n",
       "      <td>NaN</td>\n",
       "      <td>NaN</td>\n",
       "      <td>NaN</td>\n",
       "      <td>NaN</td>\n",
       "      <td>NaN</td>\n",
       "      <td>NaN</td>\n",
       "      <td>NaN</td>\n",
       "      <td>NaN</td>\n",
       "      <td>NaN</td>\n",
       "      <td>NaN</td>\n",
       "      <td>NaN</td>\n",
       "      <td>NaN</td>\n",
       "      <td>NaN</td>\n",
       "    </tr>\n",
       "    <tr>\n",
       "      <th>free sulfur dioxide</th>\n",
       "      <td>NaN</td>\n",
       "      <td>NaN</td>\n",
       "      <td>NaN</td>\n",
       "      <td>NaN</td>\n",
       "      <td>NaN</td>\n",
       "      <td>NaN</td>\n",
       "      <td>0.720934</td>\n",
       "      <td>NaN</td>\n",
       "      <td>NaN</td>\n",
       "      <td>NaN</td>\n",
       "      <td>NaN</td>\n",
       "      <td>NaN</td>\n",
       "      <td>NaN</td>\n",
       "    </tr>\n",
       "    <tr>\n",
       "      <th>total sulfur dioxide</th>\n",
       "      <td>NaN</td>\n",
       "      <td>NaN</td>\n",
       "      <td>NaN</td>\n",
       "      <td>NaN</td>\n",
       "      <td>NaN</td>\n",
       "      <td>0.720934</td>\n",
       "      <td>NaN</td>\n",
       "      <td>NaN</td>\n",
       "      <td>NaN</td>\n",
       "      <td>NaN</td>\n",
       "      <td>NaN</td>\n",
       "      <td>NaN</td>\n",
       "      <td>NaN</td>\n",
       "    </tr>\n",
       "    <tr>\n",
       "      <th>density</th>\n",
       "      <td>NaN</td>\n",
       "      <td>NaN</td>\n",
       "      <td>NaN</td>\n",
       "      <td>0.552517</td>\n",
       "      <td>NaN</td>\n",
       "      <td>NaN</td>\n",
       "      <td>NaN</td>\n",
       "      <td>NaN</td>\n",
       "      <td>NaN</td>\n",
       "      <td>NaN</td>\n",
       "      <td>-0.686745</td>\n",
       "      <td>NaN</td>\n",
       "      <td>NaN</td>\n",
       "    </tr>\n",
       "    <tr>\n",
       "      <th>pH</th>\n",
       "      <td>NaN</td>\n",
       "      <td>NaN</td>\n",
       "      <td>NaN</td>\n",
       "      <td>NaN</td>\n",
       "      <td>NaN</td>\n",
       "      <td>NaN</td>\n",
       "      <td>NaN</td>\n",
       "      <td>NaN</td>\n",
       "      <td>NaN</td>\n",
       "      <td>NaN</td>\n",
       "      <td>NaN</td>\n",
       "      <td>NaN</td>\n",
       "      <td>NaN</td>\n",
       "    </tr>\n",
       "    <tr>\n",
       "      <th>sulphates</th>\n",
       "      <td>NaN</td>\n",
       "      <td>NaN</td>\n",
       "      <td>NaN</td>\n",
       "      <td>NaN</td>\n",
       "      <td>NaN</td>\n",
       "      <td>NaN</td>\n",
       "      <td>NaN</td>\n",
       "      <td>NaN</td>\n",
       "      <td>NaN</td>\n",
       "      <td>NaN</td>\n",
       "      <td>NaN</td>\n",
       "      <td>NaN</td>\n",
       "      <td>NaN</td>\n",
       "    </tr>\n",
       "    <tr>\n",
       "      <th>alcohol</th>\n",
       "      <td>NaN</td>\n",
       "      <td>NaN</td>\n",
       "      <td>NaN</td>\n",
       "      <td>NaN</td>\n",
       "      <td>NaN</td>\n",
       "      <td>NaN</td>\n",
       "      <td>NaN</td>\n",
       "      <td>-0.686745</td>\n",
       "      <td>NaN</td>\n",
       "      <td>NaN</td>\n",
       "      <td>NaN</td>\n",
       "      <td>NaN</td>\n",
       "      <td>NaN</td>\n",
       "    </tr>\n",
       "    <tr>\n",
       "      <th>quality</th>\n",
       "      <td>NaN</td>\n",
       "      <td>NaN</td>\n",
       "      <td>NaN</td>\n",
       "      <td>NaN</td>\n",
       "      <td>NaN</td>\n",
       "      <td>NaN</td>\n",
       "      <td>NaN</td>\n",
       "      <td>NaN</td>\n",
       "      <td>NaN</td>\n",
       "      <td>NaN</td>\n",
       "      <td>NaN</td>\n",
       "      <td>NaN</td>\n",
       "      <td>0.75936</td>\n",
       "    </tr>\n",
       "    <tr>\n",
       "      <th>target</th>\n",
       "      <td>NaN</td>\n",
       "      <td>NaN</td>\n",
       "      <td>NaN</td>\n",
       "      <td>NaN</td>\n",
       "      <td>NaN</td>\n",
       "      <td>NaN</td>\n",
       "      <td>NaN</td>\n",
       "      <td>NaN</td>\n",
       "      <td>NaN</td>\n",
       "      <td>NaN</td>\n",
       "      <td>NaN</td>\n",
       "      <td>0.75936</td>\n",
       "      <td>NaN</td>\n",
       "    </tr>\n",
       "  </tbody>\n",
       "</table>\n",
       "</div>"
      ],
      "text/plain": [
       "                      fixed acidity  volatile acidity  citric acid  \\\n",
       "fixed acidity                   NaN               NaN          NaN   \n",
       "volatile acidity                NaN               NaN          NaN   \n",
       "citric acid                     NaN               NaN          NaN   \n",
       "residual sugar                  NaN               NaN          NaN   \n",
       "chlorides                       NaN               NaN          NaN   \n",
       "free sulfur dioxide             NaN               NaN          NaN   \n",
       "total sulfur dioxide            NaN               NaN          NaN   \n",
       "density                         NaN               NaN          NaN   \n",
       "pH                              NaN               NaN          NaN   \n",
       "sulphates                       NaN               NaN          NaN   \n",
       "alcohol                         NaN               NaN          NaN   \n",
       "quality                         NaN               NaN          NaN   \n",
       "target                          NaN               NaN          NaN   \n",
       "\n",
       "                      residual sugar  chlorides  free sulfur dioxide  \\\n",
       "fixed acidity                    NaN        NaN                  NaN   \n",
       "volatile acidity                 NaN        NaN                  NaN   \n",
       "citric acid                      NaN        NaN                  NaN   \n",
       "residual sugar                   NaN        NaN                  NaN   \n",
       "chlorides                        NaN        NaN                  NaN   \n",
       "free sulfur dioxide              NaN        NaN                  NaN   \n",
       "total sulfur dioxide             NaN        NaN             0.720934   \n",
       "density                     0.552517        NaN                  NaN   \n",
       "pH                               NaN        NaN                  NaN   \n",
       "sulphates                        NaN        NaN                  NaN   \n",
       "alcohol                          NaN        NaN                  NaN   \n",
       "quality                          NaN        NaN                  NaN   \n",
       "target                           NaN        NaN                  NaN   \n",
       "\n",
       "                      total sulfur dioxide   density  pH  sulphates   alcohol  \\\n",
       "fixed acidity                          NaN       NaN NaN        NaN       NaN   \n",
       "volatile acidity                       NaN       NaN NaN        NaN       NaN   \n",
       "citric acid                            NaN       NaN NaN        NaN       NaN   \n",
       "residual sugar                         NaN  0.552517 NaN        NaN       NaN   \n",
       "chlorides                              NaN       NaN NaN        NaN       NaN   \n",
       "free sulfur dioxide               0.720934       NaN NaN        NaN       NaN   \n",
       "total sulfur dioxide                   NaN       NaN NaN        NaN       NaN   \n",
       "density                                NaN       NaN NaN        NaN -0.686745   \n",
       "pH                                     NaN       NaN NaN        NaN       NaN   \n",
       "sulphates                              NaN       NaN NaN        NaN       NaN   \n",
       "alcohol                                NaN -0.686745 NaN        NaN       NaN   \n",
       "quality                                NaN       NaN NaN        NaN       NaN   \n",
       "target                                 NaN       NaN NaN        NaN       NaN   \n",
       "\n",
       "                      quality   target  \n",
       "fixed acidity             NaN      NaN  \n",
       "volatile acidity          NaN      NaN  \n",
       "citric acid               NaN      NaN  \n",
       "residual sugar            NaN      NaN  \n",
       "chlorides                 NaN      NaN  \n",
       "free sulfur dioxide       NaN      NaN  \n",
       "total sulfur dioxide      NaN      NaN  \n",
       "density                   NaN      NaN  \n",
       "pH                        NaN      NaN  \n",
       "sulphates                 NaN      NaN  \n",
       "alcohol                   NaN      NaN  \n",
       "quality                   NaN  0.75936  \n",
       "target                0.75936      NaN  "
      ]
     },
     "execution_count": 27,
     "metadata": {},
     "output_type": "execute_result"
    }
   ],
   "source": [
    "df_corr = df.corr()\n",
    "df_corr = df_corr[(abs(df_corr) > 0.5) & (df_corr != 1)]\n",
    "df_corr"
   ]
  },
  {
   "cell_type": "markdown",
   "id": "b04de963",
   "metadata": {},
   "source": [
    "상관계수(0.5) 이상의 변수를 집중 탐색해본 결과, 다중공선성을 제거해야함을 확인할 수 있다. 누구에 의해서 결과가 나왔는지 해석하기 어려움이 있고, 분석 결과인 회귀 계수가 불안정해지며 해당 변수의 종속변수에 미치는 영향력을 올바로 설명하지 못하기 때문이다\n",
    "\n",
    "- (density, residual sugar) → 0.552517\t\n",
    "- (total sulfur dioxide, free sulfur dioxide) → 0.720934  \n",
    "- (pH, alcohol) → -0.686745"
   ]
  },
  {
   "cell_type": "code",
   "execution_count": 38,
   "id": "e15f9e4d",
   "metadata": {},
   "outputs": [
    {
     "name": "stdout",
     "output_type": "stream",
     "text": [
      "(4547, 8)\n",
      "(4547,)\n",
      "(1950, 8)\n",
      "(1950,)\n"
     ]
    }
   ],
   "source": [
    "from sklearn.model_selection import train_test_split\n",
    "from sklearn import metrics\n",
    "\n",
    "X=df.drop(['quality', 'target', 'residual sugar', 'total sulfur dioxide', 'pH'], axis=1)\n",
    "Y=df['quality']\n",
    "\n",
    "x_train, x_test, y_train, y_test = train_test_split(X, Y, test_size=0.3)\n",
    "\n",
    "print(x_train.shape)\n",
    "print(y_train.shape)\n",
    "\n",
    "print(x_test.shape)\n",
    "print(y_test.shape)"
   ]
  },
  {
   "cell_type": "markdown",
   "id": "f03ecf58",
   "metadata": {},
   "source": [
    "'residual sugar', 'total sulfur dioxide', 'pH' 변수를 제거해준다"
   ]
  },
  {
   "cell_type": "code",
   "execution_count": 39,
   "id": "764e5a61",
   "metadata": {},
   "outputs": [
    {
     "data": {
      "text/plain": [
       "LinearRegression()"
      ]
     },
     "execution_count": 39,
     "metadata": {},
     "output_type": "execute_result"
    }
   ],
   "source": [
    "from sklearn.linear_model import LinearRegression\n",
    "mlr = LinearRegression()\n",
    "mlr.fit(x_train, y_train) "
   ]
  },
  {
   "cell_type": "code",
   "execution_count": 40,
   "id": "e93c9466",
   "metadata": {},
   "outputs": [
    {
     "name": "stdout",
     "output_type": "stream",
     "text": [
      "mae_train(mae):  0.5821646187838316\n",
      "r2_score(r2):  0.27519899252063507\n",
      "\n",
      "mae_test(mae):  0.5641174720578989\n",
      "r2_score(r2):  0.28221052831173543\n"
     ]
    }
   ],
   "source": [
    "import numpy as np\n",
    "from sklearn.metrics import mean_absolute_error, r2_score\n",
    "y_pred_train = mlr.predict(x_train)\n",
    "y_pred_test = mlr.predict(x_test)\n",
    "\n",
    "\n",
    "mae_train = mean_absolute_error(y_train, y_pred_train)\n",
    "print('mae_train(mae): ', mae_train)\n",
    "r2_train = r2_score(y_train, y_pred_train)\n",
    "print('r2_score(r2): ', r2_train)\n",
    "print('')\n",
    "mae_test = mean_absolute_error(y_test, y_pred_test)\n",
    "print('mae_test(mae): ', mae_test)\n",
    "r2_test = r2_score(y_test, y_pred_test)\n",
    "print('r2_score(r2): ', r2_test)"
   ]
  },
  {
   "cell_type": "code",
   "execution_count": 41,
   "id": "da20571f",
   "metadata": {},
   "outputs": [
    {
     "data": {
      "text/html": [
       "<div>\n",
       "<style scoped>\n",
       "    .dataframe tbody tr th:only-of-type {\n",
       "        vertical-align: middle;\n",
       "    }\n",
       "\n",
       "    .dataframe tbody tr th {\n",
       "        vertical-align: top;\n",
       "    }\n",
       "\n",
       "    .dataframe thead th {\n",
       "        text-align: right;\n",
       "    }\n",
       "</style>\n",
       "<table border=\"1\" class=\"dataframe\">\n",
       "  <thead>\n",
       "    <tr style=\"text-align: right;\">\n",
       "      <th></th>\n",
       "      <th>col</th>\n",
       "      <th>coef</th>\n",
       "    </tr>\n",
       "  </thead>\n",
       "  <tbody>\n",
       "    <tr>\n",
       "      <th>0</th>\n",
       "      <td>fixed acidity</td>\n",
       "      <td>-0.022317</td>\n",
       "    </tr>\n",
       "    <tr>\n",
       "      <th>1</th>\n",
       "      <td>volatile acidity</td>\n",
       "      <td>-1.507891</td>\n",
       "    </tr>\n",
       "    <tr>\n",
       "      <th>2</th>\n",
       "      <td>citric acid</td>\n",
       "      <td>-0.168614</td>\n",
       "    </tr>\n",
       "    <tr>\n",
       "      <th>3</th>\n",
       "      <td>chlorides</td>\n",
       "      <td>-0.252952</td>\n",
       "    </tr>\n",
       "    <tr>\n",
       "      <th>4</th>\n",
       "      <td>free sulfur dioxide</td>\n",
       "      <td>0.002567</td>\n",
       "    </tr>\n",
       "    <tr>\n",
       "      <th>5</th>\n",
       "      <td>density</td>\n",
       "      <td>36.856660</td>\n",
       "    </tr>\n",
       "    <tr>\n",
       "      <th>6</th>\n",
       "      <td>sulphates</td>\n",
       "      <td>0.713433</td>\n",
       "    </tr>\n",
       "    <tr>\n",
       "      <th>7</th>\n",
       "      <td>alcohol</td>\n",
       "      <td>0.381334</td>\n",
       "    </tr>\n",
       "  </tbody>\n",
       "</table>\n",
       "</div>"
      ],
      "text/plain": [
       "                   col       coef\n",
       "0        fixed acidity  -0.022317\n",
       "1     volatile acidity  -1.507891\n",
       "2          citric acid  -0.168614\n",
       "3            chlorides  -0.252952\n",
       "4  free sulfur dioxide   0.002567\n",
       "5              density  36.856660\n",
       "6            sulphates   0.713433\n",
       "7              alcohol   0.381334"
      ]
     },
     "execution_count": 41,
     "metadata": {},
     "output_type": "execute_result"
    }
   ],
   "source": [
    "df_coef_2 = pd.DataFrame({'col':X.columns, 'coef':mlr.coef_}).reset_index(drop=True)\n",
    "df_coef_2"
   ]
  },
  {
   "cell_type": "markdown",
   "id": "4bd63d61",
   "metadata": {},
   "source": [
    "다중공선성을 제거한 결과, density(밀도)의 회귀계수의 부호가 바뀐 것을 알 수 있다"
   ]
  },
  {
   "cell_type": "code",
   "execution_count": 42,
   "id": "04d5a079",
   "metadata": {},
   "outputs": [],
   "source": [
    "df_sc = df.copy()"
   ]
  },
  {
   "cell_type": "code",
   "execution_count": 52,
   "id": "1bfdfe07",
   "metadata": {},
   "outputs": [
    {
     "data": {
      "text/html": [
       "<div>\n",
       "<style scoped>\n",
       "    .dataframe tbody tr th:only-of-type {\n",
       "        vertical-align: middle;\n",
       "    }\n",
       "\n",
       "    .dataframe tbody tr th {\n",
       "        vertical-align: top;\n",
       "    }\n",
       "\n",
       "    .dataframe thead th {\n",
       "        text-align: right;\n",
       "    }\n",
       "</style>\n",
       "<table border=\"1\" class=\"dataframe\">\n",
       "  <thead>\n",
       "    <tr style=\"text-align: right;\">\n",
       "      <th></th>\n",
       "      <th>fixed acidity</th>\n",
       "      <th>volatile acidity</th>\n",
       "      <th>citric acid</th>\n",
       "      <th>residual sugar</th>\n",
       "      <th>chlorides</th>\n",
       "      <th>free sulfur dioxide</th>\n",
       "      <th>total sulfur dioxide</th>\n",
       "      <th>density</th>\n",
       "      <th>pH</th>\n",
       "      <th>sulphates</th>\n",
       "      <th>alcohol</th>\n",
       "      <th>quality</th>\n",
       "      <th>target</th>\n",
       "    </tr>\n",
       "  </thead>\n",
       "  <tbody>\n",
       "    <tr>\n",
       "      <th>0</th>\n",
       "      <td>0.297521</td>\n",
       "      <td>0.413333</td>\n",
       "      <td>0.000000</td>\n",
       "      <td>0.019939</td>\n",
       "      <td>0.111296</td>\n",
       "      <td>0.034722</td>\n",
       "      <td>0.064516</td>\n",
       "      <td>0.206092</td>\n",
       "      <td>0.612403</td>\n",
       "      <td>0.191011</td>\n",
       "      <td>0.202899</td>\n",
       "      <td>5</td>\n",
       "      <td>0</td>\n",
       "    </tr>\n",
       "    <tr>\n",
       "      <th>1</th>\n",
       "      <td>0.330579</td>\n",
       "      <td>0.533333</td>\n",
       "      <td>0.000000</td>\n",
       "      <td>0.030675</td>\n",
       "      <td>0.147841</td>\n",
       "      <td>0.083333</td>\n",
       "      <td>0.140553</td>\n",
       "      <td>0.186813</td>\n",
       "      <td>0.372093</td>\n",
       "      <td>0.258427</td>\n",
       "      <td>0.260870</td>\n",
       "      <td>5</td>\n",
       "      <td>0</td>\n",
       "    </tr>\n",
       "    <tr>\n",
       "      <th>2</th>\n",
       "      <td>0.330579</td>\n",
       "      <td>0.453333</td>\n",
       "      <td>0.024096</td>\n",
       "      <td>0.026074</td>\n",
       "      <td>0.137874</td>\n",
       "      <td>0.048611</td>\n",
       "      <td>0.110599</td>\n",
       "      <td>0.190669</td>\n",
       "      <td>0.418605</td>\n",
       "      <td>0.241573</td>\n",
       "      <td>0.260870</td>\n",
       "      <td>5</td>\n",
       "      <td>0</td>\n",
       "    </tr>\n",
       "    <tr>\n",
       "      <th>3</th>\n",
       "      <td>0.611570</td>\n",
       "      <td>0.133333</td>\n",
       "      <td>0.337349</td>\n",
       "      <td>0.019939</td>\n",
       "      <td>0.109635</td>\n",
       "      <td>0.055556</td>\n",
       "      <td>0.124424</td>\n",
       "      <td>0.209948</td>\n",
       "      <td>0.341085</td>\n",
       "      <td>0.202247</td>\n",
       "      <td>0.260870</td>\n",
       "      <td>6</td>\n",
       "      <td>0</td>\n",
       "    </tr>\n",
       "    <tr>\n",
       "      <th>4</th>\n",
       "      <td>0.297521</td>\n",
       "      <td>0.413333</td>\n",
       "      <td>0.000000</td>\n",
       "      <td>0.019939</td>\n",
       "      <td>0.111296</td>\n",
       "      <td>0.034722</td>\n",
       "      <td>0.064516</td>\n",
       "      <td>0.206092</td>\n",
       "      <td>0.612403</td>\n",
       "      <td>0.191011</td>\n",
       "      <td>0.202899</td>\n",
       "      <td>5</td>\n",
       "      <td>0</td>\n",
       "    </tr>\n",
       "  </tbody>\n",
       "</table>\n",
       "</div>"
      ],
      "text/plain": [
       "   fixed acidity  volatile acidity  citric acid  residual sugar  chlorides  \\\n",
       "0       0.297521          0.413333     0.000000        0.019939   0.111296   \n",
       "1       0.330579          0.533333     0.000000        0.030675   0.147841   \n",
       "2       0.330579          0.453333     0.024096        0.026074   0.137874   \n",
       "3       0.611570          0.133333     0.337349        0.019939   0.109635   \n",
       "4       0.297521          0.413333     0.000000        0.019939   0.111296   \n",
       "\n",
       "   free sulfur dioxide  total sulfur dioxide   density        pH  sulphates  \\\n",
       "0             0.034722              0.064516  0.206092  0.612403   0.191011   \n",
       "1             0.083333              0.140553  0.186813  0.372093   0.258427   \n",
       "2             0.048611              0.110599  0.190669  0.418605   0.241573   \n",
       "3             0.055556              0.124424  0.209948  0.341085   0.202247   \n",
       "4             0.034722              0.064516  0.206092  0.612403   0.191011   \n",
       "\n",
       "    alcohol  quality  target  \n",
       "0  0.202899        5       0  \n",
       "1  0.260870        5       0  \n",
       "2  0.260870        5       0  \n",
       "3  0.260870        6       0  \n",
       "4  0.202899        5       0  "
      ]
     },
     "execution_count": 52,
     "metadata": {},
     "output_type": "execute_result"
    }
   ],
   "source": [
    "from sklearn.preprocessing import minmax_scale\n",
    "\n",
    "for i in list(df.columns[0:11]) :\n",
    "    df_sc[i] = minmax_scale(df_sc[i], axis=0, copy=True)\n",
    "\n",
    "df_sc.head(5)"
   ]
  },
  {
   "cell_type": "code",
   "execution_count": 57,
   "id": "986cbd26",
   "metadata": {},
   "outputs": [
    {
     "name": "stdout",
     "output_type": "stream",
     "text": [
      "(4547, 8)\n",
      "(4547,)\n",
      "(1950, 8)\n",
      "(1950,)\n"
     ]
    }
   ],
   "source": [
    "from sklearn.model_selection import train_test_split\n",
    "from sklearn import metrics\n",
    "\n",
    "X=df_sc.drop(['quality', 'target', 'residual sugar', 'total sulfur dioxide', 'pH'], axis=1)\n",
    "Y=df_sc['quality']\n",
    "\n",
    "x_train, x_test, y_train, y_test = train_test_split(X, Y, test_size=0.3)\n",
    "\n",
    "print(x_train.shape)\n",
    "print(y_train.shape)\n",
    "\n",
    "print(x_test.shape)\n",
    "print(y_test.shape)"
   ]
  },
  {
   "cell_type": "code",
   "execution_count": 58,
   "id": "19850cd2",
   "metadata": {},
   "outputs": [
    {
     "data": {
      "text/plain": [
       "LinearRegression()"
      ]
     },
     "execution_count": 58,
     "metadata": {},
     "output_type": "execute_result"
    }
   ],
   "source": [
    "from sklearn.linear_model import LinearRegression\n",
    "mlr = LinearRegression()\n",
    "mlr.fit(x_train, y_train) "
   ]
  },
  {
   "cell_type": "code",
   "execution_count": 59,
   "id": "0ef0b93c",
   "metadata": {},
   "outputs": [
    {
     "name": "stdout",
     "output_type": "stream",
     "text": [
      "mae_train(mae):  0.5768262854028915\n",
      "r2_score(r2):  0.2793272775325053\n",
      "\n",
      "mae_test(mae):  0.5753141612502177\n",
      "r2_score(r2):  0.27542889545313654\n"
     ]
    }
   ],
   "source": [
    "import numpy as np\n",
    "from sklearn.metrics import mean_absolute_error, r2_score\n",
    "y_pred_train = mlr.predict(x_train)\n",
    "y_pred_test = mlr.predict(x_test)\n",
    "\n",
    "\n",
    "mae_train = mean_absolute_error(y_train, y_pred_train)\n",
    "print('mae_train(mae): ', mae_train)\n",
    "r2_train = r2_score(y_train, y_pred_train)\n",
    "print('r2_score(r2): ', r2_train)\n",
    "print('')\n",
    "mae_test = mean_absolute_error(y_test, y_pred_test)\n",
    "print('mae_test(mae): ', mae_test)\n",
    "r2_test = r2_score(y_test, y_pred_test)\n",
    "print('r2_score(r2): ', r2_test)"
   ]
  },
  {
   "cell_type": "code",
   "execution_count": 60,
   "id": "34632d92",
   "metadata": {},
   "outputs": [
    {
     "data": {
      "text/html": [
       "<div>\n",
       "<style scoped>\n",
       "    .dataframe tbody tr th:only-of-type {\n",
       "        vertical-align: middle;\n",
       "    }\n",
       "\n",
       "    .dataframe tbody tr th {\n",
       "        vertical-align: top;\n",
       "    }\n",
       "\n",
       "    .dataframe thead th {\n",
       "        text-align: right;\n",
       "    }\n",
       "</style>\n",
       "<table border=\"1\" class=\"dataframe\">\n",
       "  <thead>\n",
       "    <tr style=\"text-align: right;\">\n",
       "      <th></th>\n",
       "      <th>col</th>\n",
       "      <th>coef</th>\n",
       "    </tr>\n",
       "  </thead>\n",
       "  <tbody>\n",
       "    <tr>\n",
       "      <th>0</th>\n",
       "      <td>fixed acidity</td>\n",
       "      <td>-0.128895</td>\n",
       "    </tr>\n",
       "    <tr>\n",
       "      <th>1</th>\n",
       "      <td>volatile acidity</td>\n",
       "      <td>-2.229121</td>\n",
       "    </tr>\n",
       "    <tr>\n",
       "      <th>2</th>\n",
       "      <td>citric acid</td>\n",
       "      <td>-0.258228</td>\n",
       "    </tr>\n",
       "    <tr>\n",
       "      <th>3</th>\n",
       "      <td>chlorides</td>\n",
       "      <td>-0.487918</td>\n",
       "    </tr>\n",
       "    <tr>\n",
       "      <th>4</th>\n",
       "      <td>free sulfur dioxide</td>\n",
       "      <td>0.971900</td>\n",
       "    </tr>\n",
       "    <tr>\n",
       "      <th>5</th>\n",
       "      <td>density</td>\n",
       "      <td>1.486176</td>\n",
       "    </tr>\n",
       "    <tr>\n",
       "      <th>6</th>\n",
       "      <td>sulphates</td>\n",
       "      <td>1.213221</td>\n",
       "    </tr>\n",
       "    <tr>\n",
       "      <th>7</th>\n",
       "      <td>alcohol</td>\n",
       "      <td>2.522984</td>\n",
       "    </tr>\n",
       "  </tbody>\n",
       "</table>\n",
       "</div>"
      ],
      "text/plain": [
       "                   col      coef\n",
       "0        fixed acidity -0.128895\n",
       "1     volatile acidity -2.229121\n",
       "2          citric acid -0.258228\n",
       "3            chlorides -0.487918\n",
       "4  free sulfur dioxide  0.971900\n",
       "5              density  1.486176\n",
       "6            sulphates  1.213221\n",
       "7              alcohol  2.522984"
      ]
     },
     "execution_count": 60,
     "metadata": {},
     "output_type": "execute_result"
    }
   ],
   "source": [
    "df_coef_3 = pd.DataFrame({'col':X.columns, 'coef':mlr.coef_}).reset_index(drop=True)\n",
    "df_coef_3"
   ]
  },
  {
   "cell_type": "markdown",
   "id": "c9091320",
   "metadata": {},
   "source": [
    "scaling을 통해 해석하기 쉬워진 것을 확인할 수 있다"
   ]
  },
  {
   "cell_type": "markdown",
   "id": "db31db06",
   "metadata": {},
   "source": [
    "## ML 활용 품질 중요인자 도출"
   ]
  },
  {
   "cell_type": "code",
   "execution_count": 63,
   "id": "12fa2854",
   "metadata": {},
   "outputs": [],
   "source": [
    "import lightgbm as lgb\n",
    "import numpy as np\n",
    "from sklearn.model_selection import train_test_split\n",
    "\n",
    "X = df.drop(['quality', 'target'], axis=1)\n",
    "Y = df['target']\n",
    "\n",
    "x_train, x_test, y_train, y_test = train_test_split (X, Y, test_size = 0.3)\n",
    "    \n",
    "d_train = lgb.Dataset (x_train, label = y_train)"
   ]
  },
  {
   "cell_type": "markdown",
   "id": "a32e1cec",
   "metadata": {},
   "source": [
    "Classification 문제에서 target data를 활용한다. ligthgbm을 사용하기 위해서는 데이터 세트를 적절한 LGB 형식으로 변환시켜줘야한다"
   ]
  },
  {
   "cell_type": "code",
   "execution_count": 64,
   "id": "76854c71",
   "metadata": {},
   "outputs": [
    {
     "name": "stdout",
     "output_type": "stream",
     "text": [
      "[LightGBM] [Warning] Found whitespace in feature_names, replace with underlines\n",
      "[LightGBM] [Info] Number of positive: 885, number of negative: 3662\n",
      "[LightGBM] [Warning] Auto-choosing col-wise multi-threading, the overhead of testing was 0.000219 seconds.\n",
      "You can set `force_col_wise=true` to remove the overhead.\n",
      "[LightGBM] [Info] Total Bins 1507\n",
      "[LightGBM] [Info] Number of data points in the train set: 4547, number of used features: 11\n",
      "[LightGBM] [Info] [binary:BoostFromScore]: pavg=0.194634 -> initscore=-1.420177\n",
      "[LightGBM] [Info] Start training from score -1.420177\n",
      "[LightGBM] [Warning] No further splits with positive gain, best gain: -inf\n",
      "[LightGBM] [Warning] No further splits with positive gain, best gain: -inf\n",
      "[LightGBM] [Warning] No further splits with positive gain, best gain: -inf\n",
      "[LightGBM] [Warning] No further splits with positive gain, best gain: -inf\n",
      "[LightGBM] [Warning] No further splits with positive gain, best gain: -inf\n",
      "[LightGBM] [Warning] No further splits with positive gain, best gain: -inf\n",
      "[LightGBM] [Warning] No further splits with positive gain, best gain: -inf\n",
      "[LightGBM] [Warning] No further splits with positive gain, best gain: -inf\n",
      "[LightGBM] [Warning] No further splits with positive gain, best gain: -inf\n",
      "[LightGBM] [Warning] No further splits with positive gain, best gain: -inf\n",
      "[LightGBM] [Warning] No further splits with positive gain, best gain: -inf\n",
      "[LightGBM] [Warning] No further splits with positive gain, best gain: -inf\n",
      "[LightGBM] [Warning] No further splits with positive gain, best gain: -inf\n",
      "[LightGBM] [Warning] No further splits with positive gain, best gain: -inf\n",
      "[LightGBM] [Warning] No further splits with positive gain, best gain: -inf\n",
      "[LightGBM] [Warning] No further splits with positive gain, best gain: -inf\n",
      "[LightGBM] [Warning] No further splits with positive gain, best gain: -inf\n",
      "[LightGBM] [Warning] No further splits with positive gain, best gain: -inf\n",
      "[LightGBM] [Warning] No further splits with positive gain, best gain: -inf\n",
      "[LightGBM] [Warning] No further splits with positive gain, best gain: -inf\n",
      "[LightGBM] [Warning] No further splits with positive gain, best gain: -inf\n",
      "[LightGBM] [Warning] No further splits with positive gain, best gain: -inf\n",
      "[LightGBM] [Warning] No further splits with positive gain, best gain: -inf\n",
      "[LightGBM] [Warning] No further splits with positive gain, best gain: -inf\n",
      "[LightGBM] [Warning] No further splits with positive gain, best gain: -inf\n",
      "[LightGBM] [Warning] No further splits with positive gain, best gain: -inf\n",
      "[LightGBM] [Warning] No further splits with positive gain, best gain: -inf\n",
      "[LightGBM] [Warning] No further splits with positive gain, best gain: -inf\n",
      "[LightGBM] [Warning] No further splits with positive gain, best gain: -inf\n",
      "[LightGBM] [Warning] No further splits with positive gain, best gain: -inf\n",
      "[LightGBM] [Warning] No further splits with positive gain, best gain: -inf\n",
      "[LightGBM] [Warning] No further splits with positive gain, best gain: -inf\n",
      "[LightGBM] [Warning] No further splits with positive gain, best gain: -inf\n",
      "[LightGBM] [Warning] No further splits with positive gain, best gain: -inf\n",
      "[LightGBM] [Warning] No further splits with positive gain, best gain: -inf\n",
      "[LightGBM] [Warning] No further splits with positive gain, best gain: -inf\n",
      "[LightGBM] [Warning] No further splits with positive gain, best gain: -inf\n",
      "[LightGBM] [Warning] No further splits with positive gain, best gain: -inf\n",
      "[LightGBM] [Warning] No further splits with positive gain, best gain: -inf\n",
      "[LightGBM] [Warning] No further splits with positive gain, best gain: -inf\n",
      "[LightGBM] [Warning] No further splits with positive gain, best gain: -inf\n",
      "[LightGBM] [Warning] No further splits with positive gain, best gain: -inf\n",
      "[LightGBM] [Warning] No further splits with positive gain, best gain: -inf\n",
      "[LightGBM] [Warning] No further splits with positive gain, best gain: -inf\n",
      "[LightGBM] [Warning] No further splits with positive gain, best gain: -inf\n",
      "[LightGBM] [Warning] No further splits with positive gain, best gain: -inf\n",
      "[LightGBM] [Warning] No further splits with positive gain, best gain: -inf\n",
      "[LightGBM] [Warning] No further splits with positive gain, best gain: -inf\n",
      "[LightGBM] [Warning] No further splits with positive gain, best gain: -inf\n",
      "[LightGBM] [Warning] No further splits with positive gain, best gain: -inf\n"
     ]
    }
   ],
   "source": [
    "params = {} \n",
    "params [ 'learning_rate'] = 0.02\n",
    "params [ 'boosting_type'] = 'gbdt' \n",
    "params ['objective'] = 'binary'\n",
    "params [ 'metric' ] = 'binary_logloss' \n",
    "params [ 'max_depth'] = 3\n",
    "params [ 'num_leaves' ] = 6\n",
    "params ['seed'] = 2023\n",
    "clf = lgb.train (params, d_train, 1000) "
   ]
  },
  {
   "cell_type": "code",
   "execution_count": 65,
   "id": "9943cd02",
   "metadata": {},
   "outputs": [
    {
     "data": {
      "text/plain": [
       "array([0.09959744, 0.14582432, 0.44902179, ..., 0.42843335, 0.03172645,\n",
       "       0.05820284])"
      ]
     },
     "execution_count": 65,
     "metadata": {},
     "output_type": "execute_result"
    }
   ],
   "source": [
    "y_pred_train = clf.predict(x_train)\n",
    "y_pred_train"
   ]
  },
  {
   "cell_type": "code",
   "execution_count": 66,
   "id": "8e65f6d8",
   "metadata": {},
   "outputs": [
    {
     "name": "stdout",
     "output_type": "stream",
     "text": [
      "              precision    recall  f1-score   support\n",
      "\n",
      "           0       0.90      0.97      0.93      3662\n",
      "           1       0.81      0.53      0.64       885\n",
      "\n",
      "    accuracy                           0.88      4547\n",
      "   macro avg       0.85      0.75      0.79      4547\n",
      "weighted avg       0.88      0.88      0.88      4547\n",
      "\n",
      "              precision    recall  f1-score   support\n",
      "\n",
      "           0       0.87      0.95      0.91      1558\n",
      "           1       0.69      0.42      0.52       392\n",
      "\n",
      "    accuracy                           0.85      1950\n",
      "   macro avg       0.78      0.69      0.72      1950\n",
      "weighted avg       0.83      0.85      0.83      1950\n",
      "\n"
     ]
    }
   ],
   "source": [
    "from sklearn.metrics import classification_report\n",
    "\n",
    "y_pred_train = clf.predict(x_train)\n",
    "for i in range(0,len(y_pred_train)):\n",
    "    if y_pred_train[i]>=.5:       \n",
    "        y_pred_train[i]=1\n",
    "    else:  \n",
    "        y_pred_train[i]=0\n",
    "\n",
    "y_pred_test = clf.predict(x_test)\n",
    "for i in range(0,len(y_pred_test)):\n",
    "    if y_pred_test[i]>=.5:      \n",
    "        y_pred_test[i]=1\n",
    "    else:  \n",
    "        y_pred_test[i]=0\n",
    "\n",
    "print(classification_report(y_train, y_pred_train))\n",
    "print(classification_report(y_test, y_pred_test))"
   ]
  },
  {
   "cell_type": "code",
   "execution_count": 67,
   "id": "3326dda3",
   "metadata": {},
   "outputs": [
    {
     "data": {
      "text/plain": [
       "0.0    1708\n",
       "1.0     242\n",
       "dtype: int64"
      ]
     },
     "execution_count": 67,
     "metadata": {},
     "output_type": "execute_result"
    }
   ],
   "source": [
    "pd.Series(y_pred_test).value_counts()"
   ]
  },
  {
   "cell_type": "markdown",
   "id": "90758ff6",
   "metadata": {},
   "source": [
    "1. precision  \n",
    "\n",
    "- 예측한 것 중에 실제로 정답인 비율\n",
    "\n",
    "\n",
    "2. recall  \n",
    "\n",
    "- 실제 정답 중에서 예측으로 맞춘 비율\n",
    "\n",
    "- RandomForestClassifier로 프리미엄 와인을 예측했을 때의 Best Score(recall 0.42)\n",
    "\n",
    "3. support\n",
    "\n",
    "- 392개 중에 242개가 실제 정답이고, 242개 중에 42%를 예측에 성공했다"
   ]
  },
  {
   "cell_type": "code",
   "execution_count": 68,
   "id": "cd7e4757",
   "metadata": {},
   "outputs": [
    {
     "data": {
      "image/png": "[encoded data removed]",
      "text/plain": [
       "<Figure size 800x600 with 1 Axes>"
      ]
     },
     "metadata": {},
     "output_type": "display_data"
    }
   ],
   "source": [
    "ftr_importances_values = clf.feature_importance()\n",
    "ftr_importances = pd.Series(ftr_importances_values, index = X.columns)\n",
    "ftr_top20 = ftr_importances.sort_values(ascending=False)[:21]\n",
    "\n",
    "plt.figure(figsize=(8,6))\n",
    "plt.title('Feature Importances')\n",
    "sns.barplot(x=ftr_top20, y=ftr_top20.index)\n",
    "plt.show()"
   ]
  },
  {
   "cell_type": "markdown",
   "id": "2f475482",
   "metadata": {},
   "source": [
    "Feature IMP 분석을 통해 중요변수를 파악한다. 위의 상위 변수들을 살펴보면, total sulfur dioxide(총 이산화항)가 프리미엄 와인을 예측하는데 가장 중요한 변수임을 확인할 수 있다. 따라서 total sulfur dioxide(총 이산화항)를 주의 깊게 살펴가면서 예측을 진행하는 것이 좋은 판단이다\n",
    "\n",
    "해당 데이터는 모든 변수가 중요성을 띄고 있으므로 하위 변수들을 제거하고 다시 모델링하는 것은 좋지않다"
   ]
  },
  {
   "cell_type": "markdown",
   "id": "9da2230f",
   "metadata": {},
   "source": [
    "성과측정은 기본 베이스 코드(위의 전체 코드)를 가지고 익월 데이터를 추가 업로드해서 성과비교가 필요하다. 예를 들어, 위의 데이터로 예측한 공정변수들을 Control하고 전/후 프리미엄 와인 생산량을 비교하는 것이다"
   ]
  }
 ],
 "metadata": {
  "kernelspec": {
   "display_name": "Python 3 (ipykernel)",
   "language": "python",
   "name": "python3"
  },
  "language_info": {
   "codemirror_mode": {
    "name": "ipython",
    "version": 3
   },
   "file_extension": ".py",
   "mimetype": "text/x-python",
   "name": "python",
   "nbconvert_exporter": "python",
   "pygments_lexer": "ipython3",
   "version": "3.7.13"
  }
 },
 "nbformat": 4,
 "nbformat_minor": 5
}
